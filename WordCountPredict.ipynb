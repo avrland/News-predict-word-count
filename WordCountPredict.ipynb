{
  "nbformat": 4,
  "nbformat_minor": 0,
  "metadata": {
    "colab": {
      "provenance": [],
      "include_colab_link": true
    },
    "kernelspec": {
      "name": "python3",
      "display_name": "Python 3"
    },
    "language_info": {
      "name": "python"
    }
  },
  "cells": [
    {
      "cell_type": "markdown",
      "metadata": {
        "id": "view-in-github",
        "colab_type": "text"
      },
      "source": [
        "<a href=\"https://colab.research.google.com/github/avrland/News-predict-word-count/blob/main/WordCountPredict.ipynb\" target=\"_parent\"><img src=\"https://colab.research.google.com/assets/colab-badge.svg\" alt=\"Open In Colab\"/></a>"
      ]
    },
    {
      "cell_type": "markdown",
      "source": [
        "# Word Count Predict\n",
        "## About this notebook\n",
        "It's regression model trying to predict word count of news title from characters count. \n",
        "As data source we use [polishNewsTitleDatabase](https://github.com/avrland/polishNewsTitleDatabase), my scrapped base of over 100k news titles from polish sites.\n"
      ],
      "metadata": {
        "id": "1a0br8fbW3eq"
      }
    },
    {
      "cell_type": "markdown",
      "source": [
        "# Getting and preparing data"
      ],
      "metadata": {
        "id": "ozVSFsRGwndh"
      }
    },
    {
      "cell_type": "code",
      "source": [
        "!pip install wget\n",
        "import wget\n",
        "import pandas as pd\n",
        "pd.set_option('display.max_colwidth', 200)\n",
        "import numpy as np\n",
        "import matplotlib.pyplot as plt\n",
        "import seaborn as sns\n",
        "from sklearn.linear_model import LinearRegression\n",
        "from scipy import stats\n",
        "from sklearn.model_selection import train_test_split\n",
        "from sklearn import datasets\n",
        "from sklearn.preprocessing import StandardScaler\n",
        "from sklearn.metrics import mean_absolute_error\n",
        "from sklearn.metrics import mean_squared_error\n",
        "from sklearn.metrics import r2_score\n",
        "from sklearn.linear_model import RANSACRegressor"
      ],
      "metadata": {
        "id": "3DMhHLhjWmVE",
        "outputId": "9a9592cb-21e1-4415-ce97-5021ca961c07",
        "colab": {
          "base_uri": "https://localhost:8080/"
        }
      },
      "execution_count": 47,
      "outputs": [
        {
          "output_type": "stream",
          "name": "stdout",
          "text": [
            "Looking in indexes: https://pypi.org/simple, https://us-python.pkg.dev/colab-wheels/public/simple/\n",
            "Requirement already satisfied: wget in /usr/local/lib/python3.8/dist-packages (3.2)\n"
          ]
        }
      ]
    },
    {
      "cell_type": "markdown",
      "source": [
        "Download data to local, show first lines and database size."
      ],
      "metadata": {
        "id": "NqoMuq7UxZ5T"
      }
    },
    {
      "cell_type": "code",
      "execution_count": 13,
      "metadata": {
        "colab": {
          "base_uri": "https://localhost:8080/"
        },
        "id": "qJXYvTUoWioW",
        "outputId": "60d08e88-6278-4377-f5fc-52ef2b6d868a"
      },
      "outputs": [
        {
          "output_type": "stream",
          "name": "stdout",
          "text": [
            "Line 0: Polka straciła 36 tys. zł: napastnik wykiwał zarówno ją jak i bank\n",
            "Line 1: Chrome 86 na Androida pozwoli zaplanować pobieranie. Można już testować\n",
            "Line 2: Poczta Polska i cyfrowa rewolucja. Identyfikacja RFID przyspieszy wysyłki\n",
            "Line 3: GOG GALAXY 2.0 łączy siły z Epic Games Store. Jest wreszcie oficjalna integracja\n",
            "Line 4: Android Auto ma problem – miesza okładki odtwarzanych albumów\n",
            "Database size: 114952\n"
          ]
        }
      ],
      "source": [
        "def lineCounter(filename):\n",
        "  file = open(filename, \"r\")\n",
        "  line_count = 0\n",
        "  for line in file:\n",
        "      if line != \"\\n\":\n",
        "          line_count += 1\n",
        "  return str(line_count)\n",
        "\n",
        "url = 'https://raw.githubusercontent.com/avrland/polishNewsTitleDatabase/main/titles.txt'\n",
        "filename = '/content/titles.txt'  \n",
        "wget.download(url, filename)\n",
        "with open(filename) as fn:  \n",
        "  ln = fn.readline()\n",
        "  lncnt = 0\n",
        "  while lncnt < 5:\n",
        "       print(\"Line {}: {}\".format(lncnt, ln.strip()))\n",
        "       ln = fn.readline()\n",
        "       lncnt += 1\n",
        "print(f\"Database size: {lineCounter(filename)}\")"
      ]
    },
    {
      "cell_type": "markdown",
      "source": [
        "Putting our data to pandas dataframe."
      ],
      "metadata": {
        "id": "WRfR1QB9vWku"
      }
    },
    {
      "cell_type": "code",
      "source": [
        "cols = ['titles']\n",
        "data = pd.read_csv(r\"titles.txt\", header=None, names=cols)"
      ],
      "metadata": {
        "id": "6F--RchDwHWK"
      },
      "execution_count": 22,
      "outputs": []
    },
    {
      "cell_type": "markdown",
      "source": [
        "## Gathering stats from raw data\n",
        "Calculating char and word amount for every line, put it into separate dataframe, then show it on boxplot chart."
      ],
      "metadata": {
        "id": "NmwF67YWwa7G"
      }
    },
    {
      "cell_type": "code",
      "source": [
        "char_lenghts = []\n",
        "for x in range(len(data)):\n",
        "    z = len(data.iloc[x,0])\n",
        "    char_lenghts.append(z)\n",
        "pd_char_lenghts = pd.DataFrame(char_lenghts)\n",
        "pd_char_lenghts.columns = ['char amount']\n",
        "\n",
        "plt.figure()\n",
        "sns.boxplot(x=pd_char_lenghts.iloc[:,0]).set(title='News lenght stats (characters), raw')\n",
        "plt.plot()"
      ],
      "metadata": {
        "id": "jwtPjpJgwft_",
        "outputId": "19b310ce-0d03-409d-f023-b44c360ffff0",
        "colab": {
          "base_uri": "https://localhost:8080/",
          "height": 313
        }
      },
      "execution_count": 23,
      "outputs": [
        {
          "output_type": "execute_result",
          "data": {
            "text/plain": [
              "[]"
            ]
          },
          "metadata": {},
          "execution_count": 23
        },
        {
          "output_type": "display_data",
          "data": {
            "text/plain": [
              "<Figure size 432x288 with 1 Axes>"
            ],
            "image/png": "[encoded data removed]"
          },
          "metadata": {
            "needs_background": "light"
          }
        }
      ]
    },
    {
      "cell_type": "code",
      "source": [
        "word_amount = []\n",
        "for x in range(len(data)):\n",
        "    sentence = data.iloc[x,0]\n",
        "    words = len(sentence.split())\n",
        "    word_amount.append(words)\n",
        "pd_word_amount = pd.DataFrame(word_amount)\n",
        "pd_word_amount.columns = ['word amount']\n",
        "\n",
        "plt.figure()\n",
        "sns.boxplot(x=pd_word_amount.iloc[:,0]).set(title='News lenght stats (words), raw')\n",
        "plt.plot()"
      ],
      "metadata": {
        "colab": {
          "base_uri": "https://localhost:8080/",
          "height": 313
        },
        "id": "2n7yLSplx3Rc",
        "outputId": "453d7a08-0399-4c1d-e9ca-2465c6a030e9"
      },
      "execution_count": 6,
      "outputs": [
        {
          "output_type": "execute_result",
          "data": {
            "text/plain": [
              "[]"
            ]
          },
          "metadata": {},
          "execution_count": 6
        },
        {
          "output_type": "display_data",
          "data": {
            "text/plain": [
              "<Figure size 432x288 with 1 Axes>"
            ],
            "image/png": "[encoded data removed]"
          },
          "metadata": {
            "needs_background": "light"
          }
        }
      ]
    },
    {
      "cell_type": "markdown",
      "source": [
        "## Getting rid of outliers (characters)\n",
        "As there are outliers, we're getting rid of them by IQR method. Let's start from character count. We're showing cleaned data in boxplot here too. We can read here that mean of words is 72."
      ],
      "metadata": {
        "id": "nSB6ubR0yDYk"
      }
    },
    {
      "cell_type": "code",
      "source": [
        "Q1 = pd_char_lenghts.quantile(0.25) \n",
        "Q3 = pd_char_lenghts.quantile(0.75)\n",
        "IQR = Q3 - Q1\n",
        "\n",
        "outlier_condition = ((pd_char_lenghts < (Q1 - 1.5 * IQR)) | (pd_char_lenghts > (Q3 +1.5 * IQR)))\n",
        "pd_char_lenghts_IQR = pd_char_lenghts[~outlier_condition.any(axis=1)]\n",
        "plt.figure()\n",
        "sns.boxplot(x=pd_char_lenghts_IQR.iloc[:,0]).set(title='News lenght stats (characters), no outliers')\n",
        "plt.plot()\n",
        "print(f\"Chars mean: {int(pd_char_lenghts_IQR.mean())}\")"
      ],
      "metadata": {
        "colab": {
          "base_uri": "https://localhost:8080/",
          "height": 313
        },
        "id": "fHAkVr3jyYPf",
        "outputId": "b6238fdb-38fb-402a-8160-aaf21c30b2ab"
      },
      "execution_count": 41,
      "outputs": [
        {
          "output_type": "stream",
          "name": "stdout",
          "text": [
            "Chars mean: 72\n"
          ]
        },
        {
          "output_type": "display_data",
          "data": {
            "text/plain": [
              "<Figure size 432x288 with 1 Axes>"
            ],
            "image/png": "[encoded data removed]"
          },
          "metadata": {
            "needs_background": "light"
          }
        }
      ]
    },
    {
      "cell_type": "markdown",
      "source": [
        "We're printing some of outliers."
      ],
      "metadata": {
        "id": "rNWYVRqO5-J7"
      }
    },
    {
      "cell_type": "code",
      "source": [
        "char_outliers_count = len(pd_char_lenghts) - len(pd_char_lenghts_IQR)\n",
        "print(f\"char outliers count: {char_outliers_count}\")\n",
        "char_outliers_indexes = pd_char_lenghts.drop(index=pd_char_lenghts_IQR.index)\n",
        "char_outliers = data.iloc[char_outliers_indexes.index, :]\n",
        "print(char_outliers.iloc[:10, :])"
      ],
      "metadata": {
        "colab": {
          "base_uri": "https://localhost:8080/"
        },
        "id": "TP4tXrKX0CQ5",
        "outputId": "0a5695a4-9cf0-4fba-8ef7-fbab8df5fa30"
      },
      "execution_count": 30,
      "outputs": [
        {
          "output_type": "stream",
          "name": "stdout",
          "text": [
            "char outliers count: 1315\n",
            "                                                                                                                                         titles\n",
            "175                                                                                                                                  ​Pęknięcie\n",
            "177                                                                                                                                  Cofamy się\n",
            "179                                                                                                                                   Neutralni\n",
            "558                                                                                                                                  Arab Blues\n",
            "1333    Rząd wypowie Konwencję stambulską? Aktywistki: Polki nie mogą liczyć na wsparcie ze strony państwa. System jest dziurawy i nieefektywny\n",
            "1661                                                                                                                                     Samsam\n",
            "1847                                                                                                                                    Liberté\n",
            "2430  Konwencja stambulska stała się instrumentem politycznym. Rządzący doszukują się ideologii w rozwiązaniach które służą obywatelom [WYWIAD]\n",
            "3156                                                                                                                            Niech im będzie\n",
            "4135     Koronawirus w Polsce. 624 nowe zakażenia kolejne 7 osób zmarło. Łącznie 51 tys. 791 przypadków i 1807 zgonów [NAJNOWSZE DANE NA MAPIE]\n"
          ]
        }
      ]
    },
    {
      "cell_type": "markdown",
      "source": [
        "## Getting rid of outliers (words)\n",
        "As there are outliers also here, we're getting rid of them by IQR method. We're showing cleaned data here in boxplot too. We can read here that mean of words is 10."
      ],
      "metadata": {
        "id": "U0Xn3hmy7TMP"
      }
    },
    {
      "cell_type": "code",
      "source": [
        "Q1 = pd_word_amount.quantile(0.25) \n",
        "Q3 = pd_word_amount.quantile(0.75)\n",
        "IQR = Q3 - Q1\n",
        "\n",
        "outlier_condition = ((pd_word_amount < (Q1 - 1.5 * IQR)) | (pd_word_amount > (Q3 +1.5 * IQR)))\n",
        "pd_word_amount_IQR = pd_word_amount[~outlier_condition.any(axis=1)]\n",
        "\n",
        "plt.figure()\n",
        "sns.boxplot(x=pd_word_amount_IQR.iloc[:,0]).set(title='News lenght stats (words), no outliers')\n",
        "plt.plot()\n",
        "print(f\"Words mean: {int(pd_word_amount.mean())}\")"
      ],
      "metadata": {
        "colab": {
          "base_uri": "https://localhost:8080/",
          "height": 313
        },
        "id": "l_SFXBOR7l2H",
        "outputId": "33670a22-2456-4a1f-ae11-027365f6ba67"
      },
      "execution_count": 40,
      "outputs": [
        {
          "output_type": "stream",
          "name": "stdout",
          "text": [
            "Words mean: 10\n"
          ]
        },
        {
          "output_type": "display_data",
          "data": {
            "text/plain": [
              "<Figure size 432x288 with 1 Axes>"
            ],
            "image/png": "[encoded data removed]"
          },
          "metadata": {
            "needs_background": "light"
          }
        }
      ]
    },
    {
      "cell_type": "code",
      "source": [
        "word_outliers_count = len(pd_word_amount) - len(pd_word_amount_IQR)\n",
        "print(f\"word outliers count: {word_outliers_count}\")\n",
        "word_outliers_indexes = pd_word_amount.drop(index=pd_word_amount_IQR.index)\n",
        "word_outliers = data.iloc[word_outliers_indexes.index, :]\n",
        "print(word_outliers.iloc[:10, :])"
      ],
      "metadata": {
        "colab": {
          "base_uri": "https://localhost:8080/"
        },
        "id": "3lDaWeuD8EWn",
        "outputId": "9bcf85b6-b2a4-4175-923c-53641e4aba6d"
      },
      "execution_count": 35,
      "outputs": [
        {
          "output_type": "stream",
          "name": "stdout",
          "text": [
            "word outliers count: 1691\n",
            "                                                                                                                                       titles\n",
            "175                                                                                                                                ​Pęknięcie\n",
            "179                                                                                                                                 Neutralni\n",
            "847          Solidarna Polska o praworządności: Niepokoi nas to iż w tej sprawie inny komunikat płynie ze strony przewodniczącego RE [WYWIAD]\n",
            "1333  Rząd wypowie Konwencję stambulską? Aktywistki: Polki nie mogą liczyć na wsparcie ze strony państwa. System jest dziurawy i nieefektywny\n",
            "1361                            Dane z MF: W cztery miesiące fiskus rozłożył na raty 12 mld zł podatków. To blisko 2 razy więcej niż rok temu\n",
            "1369                                   Orban mówi wprost, że 30 lat temu myśmy pukali do drzwi Europy, a teraz to Europa powinna pukać do nas\n",
            "1661                                                                                                                                   Samsam\n",
            "1703                               Rzucił boks po wizji religijnej drugi powrót odradziła mu żona. Teraz Foreman boi się o Tysona i Jonesa Jr\n",
            "1847                                                                                                                                  Liberté\n",
            "4135   Koronawirus w Polsce. 624 nowe zakażenia kolejne 7 osób zmarło. Łącznie 51 tys. 791 przypadków i 1807 zgonów [NAJNOWSZE DANE NA MAPIE]\n"
          ]
        }
      ]
    },
    {
      "cell_type": "markdown",
      "source": [
        "## Data linking\n",
        "Forming a relationship between word and char amount. I'm doing the same steps as in separate words/characters chapters.\n"
      ],
      "metadata": {
        "id": "-QD9VL9p8nno"
      }
    },
    {
      "cell_type": "code",
      "source": [
        "titles_stats = pd.concat([pd_char_lenghts, pd_word_amount], axis = 1)\n",
        "Q1 = titles_stats.quantile(0.25) \n",
        "Q3 = titles_stats.quantile(0.75)\n",
        "IQR = Q3 - Q1\n",
        "\n",
        "outlier_condition = ((titles_stats < (Q1 - 1.5 * IQR)) | (titles_stats > (Q3 +1.5 * IQR)))\n",
        "titles_stats_IQR = titles_stats[~outlier_condition.any(axis=1)]\n",
        "\n",
        "X = np.array(titles_stats_IQR['word amount']).reshape(-1,1)\n",
        "y = np.array(titles_stats_IQR['char amount']).reshape(-1,1)\n",
        "plt.figure(figsize=(10,5))\n",
        "plt.scatter(y, X, color = 'blue')\n",
        "plt.title(\"Characters vs words\")\n",
        "plt.xlabel(\"characters\")\n",
        "plt.ylabel(\"words\")"
      ],
      "metadata": {
        "colab": {
          "base_uri": "https://localhost:8080/",
          "height": 368
        },
        "id": "Phib73zx8qNq",
        "outputId": "291a4516-83ac-45f4-b475-611bd755f2be"
      },
      "execution_count": 42,
      "outputs": [
        {
          "output_type": "execute_result",
          "data": {
            "text/plain": [
              "Text(0, 0.5, 'words')"
            ]
          },
          "metadata": {},
          "execution_count": 42
        },
        {
          "output_type": "display_data",
          "data": {
            "text/plain": [
              "<Figure size 720x360 with 1 Axes>"
            ],
            "image/png": "[encoded data removed]"
          },
          "metadata": {
            "needs_background": "light"
          }
        }
      ]
    },
    {
      "cell_type": "markdown",
      "source": [
        "# Division into training and test sets"
      ],
      "metadata": {
        "id": "ONU3Qb6D_TDv"
      }
    },
    {
      "cell_type": "markdown",
      "source": [
        "Let char amount be X, and word amount be y. Test size is 20% of whole data."
      ],
      "metadata": {
        "id": "GpSGUFATR-_z"
      }
    },
    {
      "cell_type": "code",
      "source": [
        "X = np.array(titles_stats_IQR['char amount']).reshape(-1,1)\n",
        "y = np.array(titles_stats_IQR['word amount']).reshape(-1,1)\n",
        "\n",
        "scaler = StandardScaler()\n",
        "scaler.fit(X)\n",
        "X = scaler.transform(X)\n",
        "\n",
        "X_train, X_test, y_train, y_test = train_test_split(X, y, test_size=0.2)"
      ],
      "metadata": {
        "id": "IUpxwov_KBuZ"
      },
      "execution_count": 81,
      "outputs": []
    },
    {
      "cell_type": "markdown",
      "source": [
        "## Training linear regression\n",
        "I'm using simply LinearRegression and draw it on my data."
      ],
      "metadata": {
        "id": "tmZ-JLkbRqmH"
      }
    },
    {
      "cell_type": "code",
      "source": [
        "lr = LinearRegression()\n",
        "lr.fit(X_train, y_train)\n",
        "r2_lr = r2_score(y_test, lr.predict(X_test))\n",
        "\n",
        "line_X = np.arange(X.min(), X.max())[:, np.newaxis]\n",
        "line_y_lr = lr.predict(line_X)\n",
        "plt.figure(figsize=(10,5))\n",
        " \n",
        "plt.scatter(X, y, color = 'yellow', label = 'Data')\n",
        "plt.plot(line_X, line_y_lr, color='green', linewidth=2, label='Linear regression')\n",
        " \n",
        "plt.legend(loc='lower right')\n",
        "plt.xlabel(\"Input\")\n",
        "plt.ylabel(\"Response\")\n",
        "plt.title(\"My linear regression\")\n",
        "plt.show()\n",
        "print(\"Linear regression R2 result: {}\".format(r2_lr))\n",
        "score = round(lr.score(X_test, y_test)*100,2)\n",
        "print(f\"Linear regression score: {score}%\")"
      ],
      "metadata": {
        "colab": {
          "base_uri": "https://localhost:8080/",
          "height": 386
        },
        "id": "wTNEFr0CRpsH",
        "outputId": "d8920fbb-5ff7-4f66-e823-c1750ac1415e"
      },
      "execution_count": 90,
      "outputs": [
        {
          "output_type": "display_data",
          "data": {
            "text/plain": [
              "<Figure size 720x360 with 1 Axes>"
            ],
            "image/png": "[encoded data removed]"
          },
          "metadata": {
            "needs_background": "light"
          }
        },
        {
          "output_type": "stream",
          "name": "stdout",
          "text": [
            "Linear regression R2 result: 0.7763476940913886\n",
            "Linear regression score: 77.63%\n"
          ]
        }
      ]
    },
    {
      "cell_type": "markdown",
      "source": [
        "Result is not crazy, but probably on that kind of data we won't get better. If I'm wrong, let me know :)"
      ],
      "metadata": {
        "id": "QAqK0LuXYOro"
      }
    },
    {
      "cell_type": "markdown",
      "source": [
        "## Predicting, comparing to real values\n",
        "You can enter your news title and try to predict word count here:"
      ],
      "metadata": {
        "id": "xHGY4lVSX1Sp"
      }
    },
    {
      "cell_type": "code",
      "source": [
        "# make a prediction using a scalar value\n",
        "title_to_predict_wordcount = \"Ze smartfonami jest jeszcze gorzej, ni\\u017C my\\u015Bleli\\u015Bmy\" #@param {type:\"string\"}\n",
        "word_count_real = len(title_to_predict_wordcount.split())\n",
        "char_len = len(title_to_predict_wordcount)\n",
        "char_len_scaled = scaler.transform(np.array(char_len).reshape(1,-1))\n",
        "word_count_prediction = round(int(lr.predict(char_len_scaled)))\n",
        "print(f\"Entered title: {title_to_predict_wordcount}\")\n",
        "print(f\"Entered titles has: {char_len} characters\")\n",
        "print(f\"Model predicted: {word_count_prediction} words\")\n",
        "print(f\"Real count: {word_count_real} words\")\n",
        "error = ((word_count_real - word_count_prediction)/word_count_real)*100\n",
        "print(f\"Error rate: {round(error,2)}%\")"
      ],
      "metadata": {
        "colab": {
          "base_uri": "https://localhost:8080/"
        },
        "id": "aFxFRMUARRrR",
        "outputId": "ac930899-fba4-459d-9339-a77720cae565"
      },
      "execution_count": 98,
      "outputs": [
        {
          "output_type": "stream",
          "name": "stdout",
          "text": [
            "Entered title: Ze smartfonami jest jeszcze gorzej, niż myśleliśmy\n",
            "Entered titles has: 50 characters\n",
            "Model predicted: 7 words\n",
            "Real count: 7 words\n",
            "Error rate: 0.0%\n"
          ]
        }
      ]
    }
  ]
}