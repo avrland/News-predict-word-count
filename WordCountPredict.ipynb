{
  "nbformat": 4,
  "nbformat_minor": 0,
  "metadata": {
    "colab": {
      "provenance": [],
      "authorship_tag": "ABX9TyNknqV6SFCvXM4NJZ6dtLMG",
      "include_colab_link": true
    },
    "kernelspec": {
      "name": "python3",
      "display_name": "Python 3"
    },
    "language_info": {
      "name": "python"
    }
  },
  "cells": [
    {
      "cell_type": "markdown",
      "metadata": {
        "id": "view-in-github",
        "colab_type": "text"
      },
      "source": [
        "<a href=\"https://colab.research.google.com/github/avrland/News-predict-word-count/blob/main/WordCountPredict.ipynb\" target=\"_parent\"><img src=\"https://colab.research.google.com/assets/colab-badge.svg\" alt=\"Open In Colab\"/></a>"
      ]
    },
    {
      "cell_type": "markdown",
      "source": [
        "# Word Count Predict\n",
        "It's regression model trying to predict word count of news title from characters count. \n",
        "As data source we use [polishNewsTitleDatabase](https://github.com/avrland/polishNewsTitleDatabase), my scrapped base of over 100k news titles from polish sites.\n"
      ],
      "metadata": {
        "id": "1a0br8fbW3eq"
      }
    },
    {
      "cell_type": "code",
      "source": [
        "!pip install wget\n",
        "import wget"
      ],
      "metadata": {
        "id": "3DMhHLhjWmVE"
      },
      "execution_count": null,
      "outputs": []
    },
    {
      "cell_type": "code",
      "execution_count": 3,
      "metadata": {
        "colab": {
          "base_uri": "https://localhost:8080/"
        },
        "id": "qJXYvTUoWioW",
        "outputId": "5bdc0fe5-4665-4a69-f086-67062b670fd1"
      },
      "outputs": [
        {
          "output_type": "stream",
          "name": "stdout",
          "text": [
            "Line 0: Polka straciła 36 tys. zł: napastnik wykiwał zarówno ją jak i bank\n",
            "Line 1: Chrome 86 na Androida pozwoli zaplanować pobieranie. Można już testować\n",
            "Line 2: Poczta Polska i cyfrowa rewolucja. Identyfikacja RFID przyspieszy wysyłki\n",
            "Line 3: GOG GALAXY 2.0 łączy siły z Epic Games Store. Jest wreszcie oficjalna integracja\n",
            "Line 4: Android Auto ma problem – miesza okładki odtwarzanych albumów\n",
            "Database size: 114952\n"
          ]
        }
      ],
      "source": [
        "def lineCounter(filename):\n",
        "  file = open(filename, \"r\")\n",
        "  line_count = 0\n",
        "  for line in file:\n",
        "      if line != \"\\n\":\n",
        "          line_count += 1\n",
        "  return str(line_count)\n",
        "\n",
        "url = 'https://raw.githubusercontent.com/avrland/polishNewsTitleDatabase/main/titles.txt'\n",
        "filename = '/content/titles.txt'  \n",
        "wget.download(url, filename)\n",
        "with open(filename) as fn:  \n",
        "  ln = fn.readline()\n",
        "  lncnt = 0\n",
        "  while lncnt < 5:\n",
        "       print(\"Line {}: {}\".format(lncnt, ln.strip()))\n",
        "       ln = fn.readline()\n",
        "       lncnt += 1\n",
        "print(\"Database size: \" + lineCounter(filename))"
      ]
    }
  ]
}